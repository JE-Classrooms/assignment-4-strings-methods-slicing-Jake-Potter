{
 "cells": [
  {
   "cell_type": "markdown",
   "metadata": {},
   "source": [
    "# Assignment 4"
   ]
  },
  {
   "cell_type": "markdown",
   "metadata": {},
   "source": [
    "1. Given two strings, s1 and s2, write a program to return a new string made of s1 and s2’s first, middle, and last characters all in capital letters."
   ]
  },
  {
   "cell_type": "code",
   "execution_count": 17,
   "metadata": {},
   "outputs": [
    {
     "name": "stdout",
     "output_type": "stream",
     "text": [
      "THNMRL\n"
     ]
    }
   ],
   "source": [
    "s1 = 'thner'\n",
    "s2 = 'hnmikl'\n",
    "\n",
    "def change(s1,s2):\n",
    "    n1 = len(s1)-1\n",
    "    n2 = len(s2)-1\n",
    "    m1 = n1//2 \n",
    "    m2 = n2//2\n",
    "    combined= str(s1[0] + s2[0] + s1[m1] + s2[m2] + s1[n1] + s2[n2])\n",
    "    return combined.upper()\n",
    "print(change(s1,s2))"
   ]
  },
  {
   "cell_type": "markdown",
   "metadata": {},
   "source": [
    "2. Calculate the sum and the averages of the numbers in the following string while ignoring all other characters:\n",
    "\n",
    "    ```aa4a649##aq#2```"
   ]
  },
  {
   "cell_type": "code",
   "execution_count": 19,
   "metadata": {},
   "outputs": [
    {
     "name": "stdout",
     "output_type": "stream",
     "text": [
      "25 5.0\n"
     ]
    }
   ],
   "source": [
    "\n",
    "\n",
    "\n",
    "s = 'aa4a649##aq#2'\n",
    "s = s.replace('a','')\n",
    "s= s.replace('#','')\n",
    "s = s.replace('q','')\n",
    "\n",
    "numbers = [int(s[0]),int(s[1]),int(s[2]),int(s[3]),int(s[4])]\n",
    "total = 0\n",
    "average = 0 \n",
    "for i in numbers:\n",
    "    total += i\n",
    "\n",
    "average = total/len(numbers)\n",
    "    \n",
    "\n",
    "print(total,average)\n",
    "    \n"
   ]
  },
  {
   "cell_type": "markdown",
   "metadata": {},
   "source": [
    "3. Extract the last name Culberson from the following legislative action:\n",
    "\n",
    "    ```WORDS TAKEN DOWN - During the course of debate, exception was taken to certain words used and a demand was made to have words taken down. Mr. Culberson asked unanimous consent to withdraw the words. Without objection the words were withdrawn. The House resumed debate on S. 22 .```\n",
    "\n",
    "    **Hint:** use the method [split](https://www.w3schools.com/python/ref_string_split.asp)"
   ]
  },
  {
   "cell_type": "code",
   "execution_count": 41,
   "metadata": {},
   "outputs": [
    {
     "name": "stdout",
     "output_type": "stream",
     "text": [
      "['WORDS', 'TAKEN', 'DOWN', '-', 'During', 'the', 'course', 'of', 'debate,', 'exception', 'was', 'taken', 'to', 'certain', 'words', 'used', 'and', 'a', 'demand', 'was', 'made', 'to', 'have', 'words', 'taken', 'down.', 'Mr.', 'Culberson', 'asked', 'unanimous', 'consent', 'to', 'withdraw', 'the', 'words.', 'Without', 'objection', 'the', 'words', 'were', 'withdrawn.', 'The', 'House', 'resumed', 'debate', 'on', 'S.', '22', '.']\n",
      "Culberson\n"
     ]
    }
   ],
   "source": [
    "sentence = 'WORDS TAKEN DOWN - During the course of debate, exception was taken to certain words used and a demand was made to have words taken down. Mr. Culberson asked unanimous consent to withdraw the words. Without objection the words were withdrawn. The House resumed debate on S. 22 .'\n",
    "\n",
    "y = sentence.split()\n",
    "\n",
    "\n",
    "y.index('Culberson')\n",
    "\n",
    "c = y[27]\n",
    "\n",
    "print(c)\n",
    "\n"
   ]
  },
  {
   "cell_type": "markdown",
   "metadata": {},
   "source": [
    "4. Extract the two integers from the following sentence and transform them intro ```int``` type\n",
    "\n",
    "    ```Passed Senate with amendments by Yea-Nay Vote. 73 - 21. Record Vote Number: 3 . (text: CR S430-557 )```"
   ]
  },
  {
   "cell_type": "code",
   "execution_count": 52,
   "metadata": {},
   "outputs": [
    {
     "name": "stdout",
     "output_type": "stream",
     "text": [
      "73 3\n"
     ]
    }
   ],
   "source": [
    "sent2 = 'Passed Senate with amendments by Yea-Nay Vote. 73 - 21. Record Vote Number: 3 . (text: CR S430-557 )'\n",
    "x = sent2.split()\n",
    "\n",
    "first = x[x.index('73')]\n",
    "second = x[x.index('3')]\n",
    "\n",
    "\n",
    "int1 = int(first)\n",
    "int2 =int(second)\n",
    "\n",
    "print(int1,int2)\n",
    "\n"
   ]
  },
  {
   "cell_type": "code",
   "execution_count": null,
   "metadata": {},
   "outputs": [],
   "source": []
  },
  {
   "cell_type": "code",
   "execution_count": null,
   "metadata": {},
   "outputs": [],
   "source": []
  }
 ],
 "metadata": {
  "kernelspec": {
   "display_name": "conda_amazonei_mxnet_p36",
   "language": "python",
   "name": "conda_amazonei_mxnet_p36"
  },
  "language_info": {
   "codemirror_mode": {
    "name": "ipython",
    "version": 3
   },
   "file_extension": ".py",
   "mimetype": "text/x-python",
   "name": "python",
   "nbconvert_exporter": "python",
   "pygments_lexer": "ipython3",
   "version": "3.6.13"
  },
  "vscode": {
   "interpreter": {
    "hash": "11838f79d2aaadbfa3a2adfaf35bacdebdb4e8d9b63957ddf298964812544a76"
   }
  }
 },
 "nbformat": 4,
 "nbformat_minor": 4
}
